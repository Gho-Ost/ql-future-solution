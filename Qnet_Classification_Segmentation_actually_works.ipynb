{
  "cells": [
    {
      "cell_type": "code",
      "source": [
        "!pip install qiskit\n",
        "!pip install qiskit_aer\n",
        "!pip install qiskit_algorithms\n",
        "!pip install qiskit_machine_learning"
      ],
      "metadata": {
        "colab": {
          "base_uri": "https://localhost:8080/"
        },
        "id": "nJhjkXP2PYxW",
        "outputId": "e8330d31-8e73-4aa7-c96c-5bc5e72676be"
      },
      "execution_count": 28,
      "outputs": [
        {
          "output_type": "stream",
          "name": "stdout",
          "text": [
            "Requirement already satisfied: qiskit in /usr/local/lib/python3.10/dist-packages (1.0.2)\n",
            "Requirement already satisfied: rustworkx>=0.14.0 in /usr/local/lib/python3.10/dist-packages (from qiskit) (0.14.2)\n",
            "Requirement already satisfied: numpy<2,>=1.17 in /usr/local/lib/python3.10/dist-packages (from qiskit) (1.25.2)\n",
            "Requirement already satisfied: scipy>=1.5 in /usr/local/lib/python3.10/dist-packages (from qiskit) (1.11.4)\n",
            "Requirement already satisfied: sympy>=1.3 in /usr/local/lib/python3.10/dist-packages (from qiskit) (1.12)\n",
            "Requirement already satisfied: dill>=0.3 in /usr/local/lib/python3.10/dist-packages (from qiskit) (0.3.8)\n",
            "Requirement already satisfied: python-dateutil>=2.8.0 in /usr/local/lib/python3.10/dist-packages (from qiskit) (2.8.2)\n",
            "Requirement already satisfied: stevedore>=3.0.0 in /usr/local/lib/python3.10/dist-packages (from qiskit) (5.2.0)\n",
            "Requirement already satisfied: typing-extensions in /usr/local/lib/python3.10/dist-packages (from qiskit) (4.11.0)\n",
            "Requirement already satisfied: symengine>=0.11 in /usr/local/lib/python3.10/dist-packages (from qiskit) (0.11.0)\n",
            "Requirement already satisfied: six>=1.5 in /usr/local/lib/python3.10/dist-packages (from python-dateutil>=2.8.0->qiskit) (1.16.0)\n",
            "Requirement already satisfied: pbr!=2.1.0,>=2.0.0 in /usr/local/lib/python3.10/dist-packages (from stevedore>=3.0.0->qiskit) (6.0.0)\n",
            "Requirement already satisfied: mpmath>=0.19 in /usr/local/lib/python3.10/dist-packages (from sympy>=1.3->qiskit) (1.3.0)\n",
            "Requirement already satisfied: qiskit_aer in /usr/local/lib/python3.10/dist-packages (0.14.0.1)\n",
            "Requirement already satisfied: qiskit>=0.45.0 in /usr/local/lib/python3.10/dist-packages (from qiskit_aer) (1.0.2)\n",
            "Requirement already satisfied: numpy>=1.16.3 in /usr/local/lib/python3.10/dist-packages (from qiskit_aer) (1.25.2)\n",
            "Requirement already satisfied: scipy>=1.0 in /usr/local/lib/python3.10/dist-packages (from qiskit_aer) (1.11.4)\n",
            "Requirement already satisfied: psutil>=5 in /usr/local/lib/python3.10/dist-packages (from qiskit_aer) (5.9.5)\n",
            "Requirement already satisfied: rustworkx>=0.14.0 in /usr/local/lib/python3.10/dist-packages (from qiskit>=0.45.0->qiskit_aer) (0.14.2)\n",
            "Requirement already satisfied: sympy>=1.3 in /usr/local/lib/python3.10/dist-packages (from qiskit>=0.45.0->qiskit_aer) (1.12)\n",
            "Requirement already satisfied: dill>=0.3 in /usr/local/lib/python3.10/dist-packages (from qiskit>=0.45.0->qiskit_aer) (0.3.8)\n",
            "Requirement already satisfied: python-dateutil>=2.8.0 in /usr/local/lib/python3.10/dist-packages (from qiskit>=0.45.0->qiskit_aer) (2.8.2)\n",
            "Requirement already satisfied: stevedore>=3.0.0 in /usr/local/lib/python3.10/dist-packages (from qiskit>=0.45.0->qiskit_aer) (5.2.0)\n",
            "Requirement already satisfied: typing-extensions in /usr/local/lib/python3.10/dist-packages (from qiskit>=0.45.0->qiskit_aer) (4.11.0)\n",
            "Requirement already satisfied: symengine>=0.11 in /usr/local/lib/python3.10/dist-packages (from qiskit>=0.45.0->qiskit_aer) (0.11.0)\n",
            "Requirement already satisfied: six>=1.5 in /usr/local/lib/python3.10/dist-packages (from python-dateutil>=2.8.0->qiskit>=0.45.0->qiskit_aer) (1.16.0)\n",
            "Requirement already satisfied: pbr!=2.1.0,>=2.0.0 in /usr/local/lib/python3.10/dist-packages (from stevedore>=3.0.0->qiskit>=0.45.0->qiskit_aer) (6.0.0)\n",
            "Requirement already satisfied: mpmath>=0.19 in /usr/local/lib/python3.10/dist-packages (from sympy>=1.3->qiskit>=0.45.0->qiskit_aer) (1.3.0)\n",
            "Requirement already satisfied: qiskit_algorithms in /usr/local/lib/python3.10/dist-packages (0.3.0)\n",
            "Requirement already satisfied: qiskit>=0.44 in /usr/local/lib/python3.10/dist-packages (from qiskit_algorithms) (1.0.2)\n",
            "Requirement already satisfied: scipy>=1.4 in /usr/local/lib/python3.10/dist-packages (from qiskit_algorithms) (1.11.4)\n",
            "Requirement already satisfied: numpy>=1.17 in /usr/local/lib/python3.10/dist-packages (from qiskit_algorithms) (1.25.2)\n",
            "Requirement already satisfied: rustworkx>=0.14.0 in /usr/local/lib/python3.10/dist-packages (from qiskit>=0.44->qiskit_algorithms) (0.14.2)\n",
            "Requirement already satisfied: sympy>=1.3 in /usr/local/lib/python3.10/dist-packages (from qiskit>=0.44->qiskit_algorithms) (1.12)\n",
            "Requirement already satisfied: dill>=0.3 in /usr/local/lib/python3.10/dist-packages (from qiskit>=0.44->qiskit_algorithms) (0.3.8)\n",
            "Requirement already satisfied: python-dateutil>=2.8.0 in /usr/local/lib/python3.10/dist-packages (from qiskit>=0.44->qiskit_algorithms) (2.8.2)\n",
            "Requirement already satisfied: stevedore>=3.0.0 in /usr/local/lib/python3.10/dist-packages (from qiskit>=0.44->qiskit_algorithms) (5.2.0)\n",
            "Requirement already satisfied: typing-extensions in /usr/local/lib/python3.10/dist-packages (from qiskit>=0.44->qiskit_algorithms) (4.11.0)\n",
            "Requirement already satisfied: symengine>=0.11 in /usr/local/lib/python3.10/dist-packages (from qiskit>=0.44->qiskit_algorithms) (0.11.0)\n",
            "Requirement already satisfied: six>=1.5 in /usr/local/lib/python3.10/dist-packages (from python-dateutil>=2.8.0->qiskit>=0.44->qiskit_algorithms) (1.16.0)\n",
            "Requirement already satisfied: pbr!=2.1.0,>=2.0.0 in /usr/local/lib/python3.10/dist-packages (from stevedore>=3.0.0->qiskit>=0.44->qiskit_algorithms) (6.0.0)\n",
            "Requirement already satisfied: mpmath>=0.19 in /usr/local/lib/python3.10/dist-packages (from sympy>=1.3->qiskit>=0.44->qiskit_algorithms) (1.3.0)\n",
            "Requirement already satisfied: qiskit_machine_learning in /usr/local/lib/python3.10/dist-packages (0.7.2)\n",
            "Requirement already satisfied: qiskit>=0.44 in /usr/local/lib/python3.10/dist-packages (from qiskit_machine_learning) (1.0.2)\n",
            "Requirement already satisfied: qiskit-algorithms>=0.2.0 in /usr/local/lib/python3.10/dist-packages (from qiskit_machine_learning) (0.3.0)\n",
            "Requirement already satisfied: scipy>=1.4 in /usr/local/lib/python3.10/dist-packages (from qiskit_machine_learning) (1.11.4)\n",
            "Requirement already satisfied: numpy>=1.17 in /usr/local/lib/python3.10/dist-packages (from qiskit_machine_learning) (1.25.2)\n",
            "Requirement already satisfied: psutil>=5 in /usr/local/lib/python3.10/dist-packages (from qiskit_machine_learning) (5.9.5)\n",
            "Requirement already satisfied: scikit-learn>=1.2.0 in /usr/local/lib/python3.10/dist-packages (from qiskit_machine_learning) (1.2.2)\n",
            "Requirement already satisfied: fastdtw in /usr/local/lib/python3.10/dist-packages (from qiskit_machine_learning) (0.3.4)\n",
            "Requirement already satisfied: setuptools>=40.1.0 in /usr/local/lib/python3.10/dist-packages (from qiskit_machine_learning) (67.7.2)\n",
            "Requirement already satisfied: dill>=0.3.4 in /usr/local/lib/python3.10/dist-packages (from qiskit_machine_learning) (0.3.8)\n",
            "Requirement already satisfied: rustworkx>=0.14.0 in /usr/local/lib/python3.10/dist-packages (from qiskit>=0.44->qiskit_machine_learning) (0.14.2)\n",
            "Requirement already satisfied: sympy>=1.3 in /usr/local/lib/python3.10/dist-packages (from qiskit>=0.44->qiskit_machine_learning) (1.12)\n",
            "Requirement already satisfied: python-dateutil>=2.8.0 in /usr/local/lib/python3.10/dist-packages (from qiskit>=0.44->qiskit_machine_learning) (2.8.2)\n",
            "Requirement already satisfied: stevedore>=3.0.0 in /usr/local/lib/python3.10/dist-packages (from qiskit>=0.44->qiskit_machine_learning) (5.2.0)\n",
            "Requirement already satisfied: typing-extensions in /usr/local/lib/python3.10/dist-packages (from qiskit>=0.44->qiskit_machine_learning) (4.11.0)\n",
            "Requirement already satisfied: symengine>=0.11 in /usr/local/lib/python3.10/dist-packages (from qiskit>=0.44->qiskit_machine_learning) (0.11.0)\n",
            "Requirement already satisfied: joblib>=1.1.1 in /usr/local/lib/python3.10/dist-packages (from scikit-learn>=1.2.0->qiskit_machine_learning) (1.4.0)\n",
            "Requirement already satisfied: threadpoolctl>=2.0.0 in /usr/local/lib/python3.10/dist-packages (from scikit-learn>=1.2.0->qiskit_machine_learning) (3.4.0)\n",
            "Requirement already satisfied: six>=1.5 in /usr/local/lib/python3.10/dist-packages (from python-dateutil>=2.8.0->qiskit>=0.44->qiskit_machine_learning) (1.16.0)\n",
            "Requirement already satisfied: pbr!=2.1.0,>=2.0.0 in /usr/local/lib/python3.10/dist-packages (from stevedore>=3.0.0->qiskit>=0.44->qiskit_machine_learning) (6.0.0)\n",
            "Requirement already satisfied: mpmath>=0.19 in /usr/local/lib/python3.10/dist-packages (from sympy>=1.3->qiskit>=0.44->qiskit_machine_learning) (1.3.0)\n"
          ]
        }
      ]
    },
    {
      "cell_type": "code",
      "source": [
        "import qiskit\n",
        "import matplotlib.pyplot as plt\n",
        "from qiskit_aer import AerSimulator\n",
        "from qiskit import transpile"
      ],
      "metadata": {
        "id": "fTjqWyJIPcQ8"
      },
      "execution_count": 29,
      "outputs": []
    },
    {
      "cell_type": "code",
      "source": [
        "from qiskit import QuantumCircuit\n",
        "from qiskit.circuit import Parameter\n",
        "from qiskit.circuit.library import RealAmplitudes, ZZFeatureMap\n",
        "from qiskit_algorithms.utils import algorithm_globals\n",
        "from qiskit_machine_learning.neural_networks import SamplerQNN, EstimatorQNN\n",
        "from qiskit_machine_learning.connectors import TorchConnector"
      ],
      "metadata": {
        "id": "tJHY0uesPdHk"
      },
      "execution_count": 30,
      "outputs": []
    },
    {
      "cell_type": "code",
      "source": [
        "import pandas as pd\n",
        "import numpy as np\n",
        "import os\n",
        "import matplotlib.pyplot as plt\n",
        "import matplotlib.image as mpimg\n",
        "import cv2\n",
        "\n",
        "def read_data(directory, target_size = (300, 300)):\n",
        "    all_files = os.listdir(directory)\n",
        "    not_mask_images = sorted([file for file in all_files if \"mask\" not in file])\n",
        "    mask_images = sorted([file for file in all_files if \"mask\" in file])\n",
        "    images = []\n",
        "    masks = []\n",
        "    temp_masks = []\n",
        "\n",
        "    for file_name in not_mask_images:\n",
        "        image = cv2.imread(os.path.join(directory, file_name))\n",
        "        images.append(cv2.resize(image, target_size))\n",
        "\n",
        "    prev_file = None\n",
        "    for file_name in mask_images:\n",
        "        image = cv2.imread(os.path.join(directory, file_name), cv2.IMREAD_GRAYSCALE)\n",
        "        image = cv2.resize(image, target_size)\n",
        "        if prev_file != None and (str(prev_file).replace(\".png\", \"\").replace(\" \", \"_\") in str(file_name).replace(\".png\", \"\").replace(\" \",\"_\")):\n",
        "            masks[-1] += image\n",
        "        else:\n",
        "            temp_masks.append(file_name)\n",
        "            masks.append(image)\n",
        "            prev_file = file_name\n",
        "\n",
        "    return np.array(images), np.array(masks)\n",
        "\n",
        "def show_image(data, index):\n",
        "    image = data[index]\n",
        "    plt.imshow(image)\n",
        "    plt.axis('off')\n",
        "    plt.show()"
      ],
      "metadata": {
        "id": "kzZ7zFrgxTsV"
      },
      "execution_count": 31,
      "outputs": []
    },
    {
      "cell_type": "code",
      "execution_count": 32,
      "metadata": {
        "id": "E0Q-1pjEqShN"
      },
      "outputs": [],
      "source": [
        "import torch\n",
        "import torch.nn as nn\n",
        "import torch.nn.functional as F\n",
        "from torch.optim import AdamW, Adam\n",
        "from sklearn.model_selection import train_test_split\n",
        "from torch.utils.data import TensorDataset, DataLoader, Dataset\n",
        "import pickle\n",
        "import numpy as np\n",
        "import pandas as pd"
      ]
    },
    {
      "cell_type": "code",
      "source": [
        "from google.colab import drive\n",
        "drive.mount('/content/drive')"
      ],
      "metadata": {
        "colab": {
          "base_uri": "https://localhost:8080/"
        },
        "id": "oz0TDEYXrNKn",
        "outputId": "616778ab-29ae-45a0-862e-413465751ff5"
      },
      "execution_count": 33,
      "outputs": [
        {
          "output_type": "stream",
          "name": "stdout",
          "text": [
            "Drive already mounted at /content/drive; to attempt to forcibly remount, call drive.mount(\"/content/drive\", force_remount=True).\n"
          ]
        }
      ]
    },
    {
      "cell_type": "code",
      "execution_count": 34,
      "metadata": {
        "colab": {
          "base_uri": "https://localhost:8080/"
        },
        "id": "QMVTpzobqShS",
        "outputId": "09165f34-bf0a-4e51-815c-465aaf3a9988"
      },
      "outputs": [
        {
          "output_type": "stream",
          "name": "stderr",
          "text": [
            "Using cache found in /root/.cache/torch/hub/mateuszbuda_brain-segmentation-pytorch_master\n"
          ]
        }
      ],
      "source": [
        "model = torch.hub.load('mateuszbuda/brain-segmentation-pytorch', 'unet',\n",
        "    in_channels=3, out_channels=1, init_features=32, pretrained=True)"
      ]
    },
    {
      "cell_type": "code",
      "source": [
        "device = torch.device(\"cuda\" if torch.cuda.is_available() else \"cpu\")"
      ],
      "metadata": {
        "id": "n0SRtJPy7wyC"
      },
      "execution_count": 35,
      "outputs": []
    },
    {
      "cell_type": "code",
      "execution_count": 36,
      "metadata": {
        "id": "d94KuqdoqShT"
      },
      "outputs": [],
      "source": [
        "class UNet(nn.Module):\n",
        "    def __init__(self, base_model, qnn):\n",
        "        super(UNet, self).__init__()\n",
        "        self.model = base_model\n",
        "        self.maxpool = nn.MaxPool2d(kernel_size=3, stride=3)\n",
        "        self.fc1 = nn.Linear(28900, 512)\n",
        "        self.relu1 = nn.ReLU()\n",
        "        self.fc2 = nn.Linear(512, 256)\n",
        "        self.relu2 = nn.ReLU()\n",
        "        self.fc3 = nn.Linear(256, 128)\n",
        "        self.relu3 = nn.ReLU()\n",
        "        self.fc4 = nn.Linear(128, 8)\n",
        "        self.relu4 = nn.ReLU()\n",
        "        self.qnn = TorchConnector(qnn)\n",
        "        self.output = nn.Linear(1, 3)\n",
        "\n",
        "    def forward(self, x):\n",
        "        segmented = self.model(x)\n",
        "        concatenated = torch.cat((x, segmented), dim=1)\n",
        "        classified = self.maxpool(concatenated)\n",
        "        classified = classified.view(classified.size(0), -1)\n",
        "        classified = self.fc1(classified)\n",
        "        classified = self.relu1(classified)\n",
        "        classified = self.fc2(classified)\n",
        "        classified = self.relu2(classified)\n",
        "        classified = self.fc3(classified)\n",
        "        classified = self.relu3(classified)\n",
        "        classified = self.fc4(classified)\n",
        "        classified = self.relu4(classified)\n",
        "        classified = self.qnn(classified)\n",
        "        output = self.output(classified)\n",
        "        return segmented, output\n",
        "\n",
        "def create_qnn():\n",
        "    feature_map = ZZFeatureMap(8)\n",
        "    ansatz = RealAmplitudes(8, reps=1)\n",
        "    qc = QuantumCircuit(8)\n",
        "    qc.compose(feature_map, inplace=True)\n",
        "    qc.compose(ansatz, inplace=True)\n",
        "\n",
        "    # REMEMBER TO SET input_gradients=True FOR ENABLING HYBRID GRADIENT BACKPROP\n",
        "    qnn = EstimatorQNN(\n",
        "        circuit=qc,\n",
        "        input_params=feature_map.parameters,\n",
        "        weight_params=ansatz.parameters,\n",
        "        input_gradients=True,\n",
        "    )\n",
        "    return qnn\n",
        "\n",
        "\n",
        "U_qnn = create_qnn()"
      ]
    },
    {
      "cell_type": "code",
      "execution_count": 37,
      "metadata": {
        "colab": {
          "base_uri": "https://localhost:8080/"
        },
        "id": "Kelmydo3qShU",
        "outputId": "1f037379-8b25-4890-c9e7-5401216cdbe3"
      },
      "outputs": [
        {
          "output_type": "stream",
          "name": "stdout",
          "text": [
            "UNet(\n",
            "  (model): UNet(\n",
            "    (encoder1): Sequential(\n",
            "      (enc1conv1): Conv2d(3, 32, kernel_size=(3, 3), stride=(1, 1), padding=(1, 1), bias=False)\n",
            "      (enc1norm1): BatchNorm2d(32, eps=1e-05, momentum=0.1, affine=True, track_running_stats=True)\n",
            "      (enc1relu1): ReLU(inplace=True)\n",
            "      (enc1conv2): Conv2d(32, 32, kernel_size=(3, 3), stride=(1, 1), padding=(1, 1), bias=False)\n",
            "      (enc1norm2): BatchNorm2d(32, eps=1e-05, momentum=0.1, affine=True, track_running_stats=True)\n",
            "      (enc1relu2): ReLU(inplace=True)\n",
            "    )\n",
            "    (pool1): MaxPool2d(kernel_size=2, stride=2, padding=0, dilation=1, ceil_mode=False)\n",
            "    (encoder2): Sequential(\n",
            "      (enc2conv1): Conv2d(32, 64, kernel_size=(3, 3), stride=(1, 1), padding=(1, 1), bias=False)\n",
            "      (enc2norm1): BatchNorm2d(64, eps=1e-05, momentum=0.1, affine=True, track_running_stats=True)\n",
            "      (enc2relu1): ReLU(inplace=True)\n",
            "      (enc2conv2): Conv2d(64, 64, kernel_size=(3, 3), stride=(1, 1), padding=(1, 1), bias=False)\n",
            "      (enc2norm2): BatchNorm2d(64, eps=1e-05, momentum=0.1, affine=True, track_running_stats=True)\n",
            "      (enc2relu2): ReLU(inplace=True)\n",
            "    )\n",
            "    (pool2): MaxPool2d(kernel_size=2, stride=2, padding=0, dilation=1, ceil_mode=False)\n",
            "    (encoder3): Sequential(\n",
            "      (enc3conv1): Conv2d(64, 128, kernel_size=(3, 3), stride=(1, 1), padding=(1, 1), bias=False)\n",
            "      (enc3norm1): BatchNorm2d(128, eps=1e-05, momentum=0.1, affine=True, track_running_stats=True)\n",
            "      (enc3relu1): ReLU(inplace=True)\n",
            "      (enc3conv2): Conv2d(128, 128, kernel_size=(3, 3), stride=(1, 1), padding=(1, 1), bias=False)\n",
            "      (enc3norm2): BatchNorm2d(128, eps=1e-05, momentum=0.1, affine=True, track_running_stats=True)\n",
            "      (enc3relu2): ReLU(inplace=True)\n",
            "    )\n",
            "    (pool3): MaxPool2d(kernel_size=2, stride=2, padding=0, dilation=1, ceil_mode=False)\n",
            "    (encoder4): Sequential(\n",
            "      (enc4conv1): Conv2d(128, 256, kernel_size=(3, 3), stride=(1, 1), padding=(1, 1), bias=False)\n",
            "      (enc4norm1): BatchNorm2d(256, eps=1e-05, momentum=0.1, affine=True, track_running_stats=True)\n",
            "      (enc4relu1): ReLU(inplace=True)\n",
            "      (enc4conv2): Conv2d(256, 256, kernel_size=(3, 3), stride=(1, 1), padding=(1, 1), bias=False)\n",
            "      (enc4norm2): BatchNorm2d(256, eps=1e-05, momentum=0.1, affine=True, track_running_stats=True)\n",
            "      (enc4relu2): ReLU(inplace=True)\n",
            "    )\n",
            "    (pool4): MaxPool2d(kernel_size=2, stride=2, padding=0, dilation=1, ceil_mode=False)\n",
            "    (bottleneck): Sequential(\n",
            "      (bottleneckconv1): Conv2d(256, 512, kernel_size=(3, 3), stride=(1, 1), padding=(1, 1), bias=False)\n",
            "      (bottlenecknorm1): BatchNorm2d(512, eps=1e-05, momentum=0.1, affine=True, track_running_stats=True)\n",
            "      (bottleneckrelu1): ReLU(inplace=True)\n",
            "      (bottleneckconv2): Conv2d(512, 512, kernel_size=(3, 3), stride=(1, 1), padding=(1, 1), bias=False)\n",
            "      (bottlenecknorm2): BatchNorm2d(512, eps=1e-05, momentum=0.1, affine=True, track_running_stats=True)\n",
            "      (bottleneckrelu2): ReLU(inplace=True)\n",
            "    )\n",
            "    (upconv4): ConvTranspose2d(512, 256, kernel_size=(2, 2), stride=(2, 2))\n",
            "    (decoder4): Sequential(\n",
            "      (dec4conv1): Conv2d(512, 256, kernel_size=(3, 3), stride=(1, 1), padding=(1, 1), bias=False)\n",
            "      (dec4norm1): BatchNorm2d(256, eps=1e-05, momentum=0.1, affine=True, track_running_stats=True)\n",
            "      (dec4relu1): ReLU(inplace=True)\n",
            "      (dec4conv2): Conv2d(256, 256, kernel_size=(3, 3), stride=(1, 1), padding=(1, 1), bias=False)\n",
            "      (dec4norm2): BatchNorm2d(256, eps=1e-05, momentum=0.1, affine=True, track_running_stats=True)\n",
            "      (dec4relu2): ReLU(inplace=True)\n",
            "    )\n",
            "    (upconv3): ConvTranspose2d(256, 128, kernel_size=(2, 2), stride=(2, 2))\n",
            "    (decoder3): Sequential(\n",
            "      (dec3conv1): Conv2d(256, 128, kernel_size=(3, 3), stride=(1, 1), padding=(1, 1), bias=False)\n",
            "      (dec3norm1): BatchNorm2d(128, eps=1e-05, momentum=0.1, affine=True, track_running_stats=True)\n",
            "      (dec3relu1): ReLU(inplace=True)\n",
            "      (dec3conv2): Conv2d(128, 128, kernel_size=(3, 3), stride=(1, 1), padding=(1, 1), bias=False)\n",
            "      (dec3norm2): BatchNorm2d(128, eps=1e-05, momentum=0.1, affine=True, track_running_stats=True)\n",
            "      (dec3relu2): ReLU(inplace=True)\n",
            "    )\n",
            "    (upconv2): ConvTranspose2d(128, 64, kernel_size=(2, 2), stride=(2, 2))\n",
            "    (decoder2): Sequential(\n",
            "      (dec2conv1): Conv2d(128, 64, kernel_size=(3, 3), stride=(1, 1), padding=(1, 1), bias=False)\n",
            "      (dec2norm1): BatchNorm2d(64, eps=1e-05, momentum=0.1, affine=True, track_running_stats=True)\n",
            "      (dec2relu1): ReLU(inplace=True)\n",
            "      (dec2conv2): Conv2d(64, 64, kernel_size=(3, 3), stride=(1, 1), padding=(1, 1), bias=False)\n",
            "      (dec2norm2): BatchNorm2d(64, eps=1e-05, momentum=0.1, affine=True, track_running_stats=True)\n",
            "      (dec2relu2): ReLU(inplace=True)\n",
            "    )\n",
            "    (upconv1): ConvTranspose2d(64, 32, kernel_size=(2, 2), stride=(2, 2))\n",
            "    (decoder1): Sequential(\n",
            "      (dec1conv1): Conv2d(64, 32, kernel_size=(3, 3), stride=(1, 1), padding=(1, 1), bias=False)\n",
            "      (dec1norm1): BatchNorm2d(32, eps=1e-05, momentum=0.1, affine=True, track_running_stats=True)\n",
            "      (dec1relu1): ReLU(inplace=True)\n",
            "      (dec1conv2): Conv2d(32, 32, kernel_size=(3, 3), stride=(1, 1), padding=(1, 1), bias=False)\n",
            "      (dec1norm2): BatchNorm2d(32, eps=1e-05, momentum=0.1, affine=True, track_running_stats=True)\n",
            "      (dec1relu2): ReLU(inplace=True)\n",
            "    )\n",
            "    (conv): Conv2d(32, 1, kernel_size=(1, 1), stride=(1, 1))\n",
            "  )\n",
            "  (maxpool): MaxPool2d(kernel_size=3, stride=3, padding=0, dilation=1, ceil_mode=False)\n",
            "  (fc1): Linear(in_features=28900, out_features=512, bias=True)\n",
            "  (relu1): ReLU()\n",
            "  (fc2): Linear(in_features=512, out_features=256, bias=True)\n",
            "  (relu2): ReLU()\n",
            "  (fc3): Linear(in_features=256, out_features=128, bias=True)\n",
            "  (relu3): ReLU()\n",
            "  (fc4): Linear(in_features=128, out_features=8, bias=True)\n",
            "  (relu4): ReLU()\n",
            "  (qnn): TorchConnector()\n",
            "  (output): Linear(in_features=1, out_features=3, bias=True)\n",
            ")\n"
          ]
        }
      ],
      "source": [
        "unet = UNet(model, U_qnn).to(device)\n",
        "print(unet)"
      ]
    },
    {
      "cell_type": "code",
      "execution_count": 38,
      "metadata": {
        "colab": {
          "base_uri": "https://localhost:8080/"
        },
        "id": "lUwo-i5zqShV",
        "outputId": "75fa8ce0-0f8e-4977-cd99-fc907c7d9d51"
      },
      "outputs": [
        {
          "output_type": "stream",
          "name": "stdout",
          "text": [
            "Total trainable parameters:  22725631\n"
          ]
        }
      ],
      "source": [
        "def count_parameters(model):\n",
        "    return sum(p.numel() for p in model.parameters() if p.requires_grad)\n",
        "\n",
        "# Example usage:\n",
        "total_params = count_parameters(unet)\n",
        "print(\"Total trainable parameters: \", total_params)"
      ]
    },
    {
      "cell_type": "code",
      "execution_count": 39,
      "metadata": {
        "id": "hB_bxU79qShV"
      },
      "outputs": [],
      "source": [
        "NUM_EPOCHS = 50\n",
        "BATCH_SIZE = 16"
      ]
    },
    {
      "cell_type": "code",
      "execution_count": 40,
      "metadata": {
        "id": "_LjToHDNqShW"
      },
      "outputs": [],
      "source": [
        "benign_images, benign_masks = read_data(directory = \"/content/drive/MyDrive/data/benign\", target_size=(256, 256))\n",
        "normal_images, normal_masks = read_data(directory = \"/content/drive/MyDrive/data/normal\", target_size=(256, 256))\n",
        "malignant_images, malignant_masks = read_data(directory = \"/content/drive/MyDrive/data/malignant\", target_size=(256, 256))\n",
        "\n",
        "benign_masks = np.reshape(benign_masks, (benign_masks.shape[0], 1, benign_masks.shape[1], benign_masks.shape[2]))\n",
        "normal_masks = np.reshape(normal_masks, (normal_masks.shape[0], 1, normal_masks.shape[1], normal_masks.shape[2]))\n",
        "malignant_masks = np.reshape(malignant_masks, (malignant_masks.shape[0], 1, malignant_masks.shape[1], malignant_masks.shape[2]))\n",
        "\n",
        "benign_images = np.transpose(benign_images, (0, 3, 1, 2))\n",
        "normal_images = np.transpose(normal_images, (0, 3, 1, 2))\n",
        "malignant_images = np.transpose(malignant_images, (0, 3, 1, 2))\n",
        "\n",
        "benign_values = np.array([1, 0, 0], dtype = np.float32)\n",
        "normal_values = np.array([0, 1, 0], dtype = np.float32)\n",
        "malignant_values = np.array([0, 0, 1], dtype = np.float32)\n",
        "num_benign = len(benign_images)\n",
        "num_normal = len(normal_images)\n",
        "num_malignant = len(malignant_images)\n",
        "y_classification = []\n",
        "y_segmentation = []\n",
        "X = []\n",
        "\n",
        "for i in range(num_benign):\n",
        "    y_classification.append(benign_values)\n",
        "for i in range(num_normal):\n",
        "    y_classification.append(normal_values)\n",
        "for i in range(num_malignant):\n",
        "    y_classification.append(malignant_values)\n",
        "y_classification = np.array(y_classification, dtype = np.float32)\n",
        "\n",
        "benign_masks[benign_masks>0] = 1\n",
        "normal_masks[normal_masks>0] = 1\n",
        "malignant_masks[malignant_masks>0] = 1\n",
        "benign_images = benign_images.astype(dtype = np.float32)\n",
        "normal_images = normal_images.astype(dtype = np.float32)\n",
        "malignant_images = malignant_images.astype(dtype = np.float32)\n",
        "benign_images /= 255\n",
        "normal_images /= 255\n",
        "malignant_images /= 255\n",
        "\n",
        "for img in benign_images:\n",
        "    X.append(img)\n",
        "for img in normal_images:\n",
        "    X.append(img)\n",
        "for img in malignant_images:\n",
        "    X.append(img)\n",
        "X = np.array(X, dtype=np.float32)\n",
        "\n",
        "for img in benign_masks:\n",
        "    y_segmentation.append(img)\n",
        "for img in normal_masks:\n",
        "    y_segmentation.append(img)\n",
        "for img in malignant_masks:\n",
        "    y_segmentation.append(img)\n",
        "y_segmentation = np.array(y_segmentation, dtype=np.float32)\n",
        "\n",
        "num_samples = len(y_segmentation)\n",
        "perm = np.random.permutation(num_samples)\n",
        "\n",
        "X = X[perm]\n",
        "y_classification = y_classification[perm]\n",
        "y_segmentation = y_segmentation[perm]\n",
        "\n",
        "total_samples = len(X)\n",
        "train_size = int(0.7 * total_samples)\n",
        "val_size = int(0.2 * total_samples)\n",
        "\n",
        "X_train = X[:train_size]\n",
        "y_classification_train = y_classification[:train_size]\n",
        "y_segmentation_train = y_segmentation[:train_size]\n",
        "\n",
        "X_val = X[train_size:train_size + val_size]\n",
        "y_classification_val = y_classification[train_size:train_size + val_size]\n",
        "y_segmentation_val = y_segmentation[train_size:train_size + val_size]\n",
        "\n",
        "X_test = X[train_size + val_size:]\n",
        "y_classification_test = y_classification[train_size + val_size:]\n",
        "y_segmentation_test = y_segmentation[train_size + val_size:]"
      ]
    },
    {
      "cell_type": "code",
      "source": [
        "print(len(benign_images) + len(benign_masks) + len(normal_images) + len(normal_masks) + len(malignant_images) + len(malignant_masks))"
      ],
      "metadata": {
        "colab": {
          "base_uri": "https://localhost:8080/"
        },
        "id": "0cje9eKh2RD1",
        "outputId": "71383156-cb11-4d94-8e72-4329ee9305ec"
      },
      "execution_count": 41,
      "outputs": [
        {
          "output_type": "stream",
          "name": "stdout",
          "text": [
            "1560\n"
          ]
        }
      ]
    },
    {
      "cell_type": "code",
      "source": [
        "len(benign_images) + len(benign_masks)"
      ],
      "metadata": {
        "colab": {
          "base_uri": "https://localhost:8080/"
        },
        "id": "SDnBMlgx2mgt",
        "outputId": "0c844edf-8ed0-4251-da01-3512de67d529"
      },
      "execution_count": 42,
      "outputs": [
        {
          "output_type": "execute_result",
          "data": {
            "text/plain": [
              "874"
            ]
          },
          "metadata": {},
          "execution_count": 42
        }
      ]
    },
    {
      "cell_type": "code",
      "source": [
        "len(normal_images) + len(normal_masks)"
      ],
      "metadata": {
        "colab": {
          "base_uri": "https://localhost:8080/"
        },
        "id": "lPwUORR22p6O",
        "outputId": "c70ffe8d-7d3f-441c-9ac2-1aea99cdb940"
      },
      "execution_count": 43,
      "outputs": [
        {
          "output_type": "execute_result",
          "data": {
            "text/plain": [
              "266"
            ]
          },
          "metadata": {},
          "execution_count": 43
        }
      ]
    },
    {
      "cell_type": "code",
      "source": [
        "len(malignant_images) + len(malignant_masks)"
      ],
      "metadata": {
        "colab": {
          "base_uri": "https://localhost:8080/"
        },
        "id": "NC4Uhei525mA",
        "outputId": "03b2639b-caaf-438d-dd10-b40b144700d9"
      },
      "execution_count": 44,
      "outputs": [
        {
          "output_type": "execute_result",
          "data": {
            "text/plain": [
              "420"
            ]
          },
          "metadata": {},
          "execution_count": 44
        }
      ]
    },
    {
      "cell_type": "code",
      "execution_count": 45,
      "metadata": {
        "id": "K8DfNjJOqShX"
      },
      "outputs": [],
      "source": [
        "class CustomDataset(Dataset):\n",
        "    def __init__(self, X, y1, y2):\n",
        "        self.X = X\n",
        "        self.y1 = y1\n",
        "        self.y2 = y2\n",
        "\n",
        "    def __len__(self):\n",
        "        return len(self.X)\n",
        "\n",
        "    def __getitem__(self, idx):\n",
        "        return self.X[idx], self.y1[idx], self.y2[idx]"
      ]
    },
    {
      "cell_type": "code",
      "execution_count": 46,
      "metadata": {
        "id": "DvDCSqxwqShY"
      },
      "outputs": [],
      "source": [
        "X_train = torch.Tensor(X_train).to(device)\n",
        "y_classification_train = torch.Tensor(y_classification_train).to(device)\n",
        "y_segmentation_train = torch.Tensor(y_segmentation_train).to(device)\n",
        "\n",
        "X_val = torch.Tensor(X_val).to(device)\n",
        "y_classification_val = torch.Tensor(y_classification_val).to(device)\n",
        "y_segmentation_val = torch.Tensor(y_segmentation_val).to(device)\n",
        "\n",
        "X_test = torch.Tensor(X_test).to(device)\n",
        "y_classification_test = torch.Tensor(y_classification_test).to(device)\n",
        "y_segmentation_test = torch.Tensor(y_segmentation_test).to(device)\n",
        "\n",
        "train_dataset = CustomDataset(X_train, y_classification_train, y_segmentation_train)\n",
        "train_loader = DataLoader(train_dataset, batch_size=BATCH_SIZE, shuffle=False)\n",
        "val_dataset = CustomDataset(X_val, y_classification_val, y_segmentation_val)\n",
        "val_loader = DataLoader(val_dataset, batch_size=BATCH_SIZE, shuffle=False)\n",
        "test_dataset = CustomDataset(X_test, y_classification_test, y_segmentation_test)\n",
        "test_loader = DataLoader(test_dataset, batch_size=BATCH_SIZE, shuffle=False)"
      ]
    },
    {
      "cell_type": "code",
      "execution_count": 47,
      "metadata": {
        "colab": {
          "base_uri": "https://localhost:8080/"
        },
        "id": "4gCqwVWgqShY",
        "outputId": "8c6b3c10-1cab-425e-ced8-fa754ab8dfb2"
      },
      "outputs": [
        {
          "output_type": "execute_result",
          "data": {
            "text/plain": [
              "(780, 3)"
            ]
          },
          "metadata": {},
          "execution_count": 47
        }
      ],
      "source": [
        "y_segmentation_train.shape\n",
        "y_classification.shape"
      ]
    },
    {
      "cell_type": "code",
      "execution_count": 48,
      "metadata": {
        "colab": {
          "base_uri": "https://localhost:8080/",
          "height": 426
        },
        "id": "IhCfmf6EqShZ",
        "outputId": "ea94e546-ff21-47ce-dc5d-771bcbcb8124"
      },
      "outputs": [
        {
          "output_type": "error",
          "ename": "KeyboardInterrupt",
          "evalue": "",
          "traceback": [
            "\u001b[0;31m---------------------------------------------------------------------------\u001b[0m",
            "\u001b[0;31mKeyboardInterrupt\u001b[0m                         Traceback (most recent call last)",
            "\u001b[0;32m<ipython-input-48-b542591638f1>\u001b[0m in \u001b[0;36m<cell line: 20>\u001b[0;34m()\u001b[0m\n\u001b[1;32m     39\u001b[0m         \u001b[0mclass_loss\u001b[0m \u001b[0;34m=\u001b[0m \u001b[0mclassification_loss\u001b[0m\u001b[0;34m(\u001b[0m\u001b[0mclassification_output\u001b[0m\u001b[0;34m,\u001b[0m \u001b[0my_class\u001b[0m\u001b[0;34m)\u001b[0m\u001b[0;34m\u001b[0m\u001b[0;34m\u001b[0m\u001b[0m\n\u001b[1;32m     40\u001b[0m         \u001b[0mloss\u001b[0m \u001b[0;34m=\u001b[0m \u001b[0mseg_loss\u001b[0m \u001b[0;34m+\u001b[0m \u001b[0mclass_loss\u001b[0m\u001b[0;34m\u001b[0m\u001b[0;34m\u001b[0m\u001b[0m\n\u001b[0;32m---> 41\u001b[0;31m         \u001b[0mloss\u001b[0m\u001b[0;34m.\u001b[0m\u001b[0mbackward\u001b[0m\u001b[0;34m(\u001b[0m\u001b[0;34m)\u001b[0m\u001b[0;34m\u001b[0m\u001b[0;34m\u001b[0m\u001b[0m\n\u001b[0m\u001b[1;32m     42\u001b[0m         \u001b[0moptimizer\u001b[0m\u001b[0;34m.\u001b[0m\u001b[0mstep\u001b[0m\u001b[0;34m(\u001b[0m\u001b[0;34m)\u001b[0m\u001b[0;34m\u001b[0m\u001b[0;34m\u001b[0m\u001b[0m\n\u001b[1;32m     43\u001b[0m         \u001b[0mtrain_loss_class\u001b[0m\u001b[0;34m.\u001b[0m\u001b[0mappend\u001b[0m\u001b[0;34m(\u001b[0m\u001b[0mclass_loss\u001b[0m\u001b[0;34m.\u001b[0m\u001b[0mitem\u001b[0m\u001b[0;34m(\u001b[0m\u001b[0;34m)\u001b[0m\u001b[0;34m)\u001b[0m\u001b[0;34m\u001b[0m\u001b[0;34m\u001b[0m\u001b[0m\n",
            "\u001b[0;32m/usr/local/lib/python3.10/dist-packages/torch/_tensor.py\u001b[0m in \u001b[0;36mbackward\u001b[0;34m(self, gradient, retain_graph, create_graph, inputs)\u001b[0m\n\u001b[1;32m    520\u001b[0m                 \u001b[0minputs\u001b[0m\u001b[0;34m=\u001b[0m\u001b[0minputs\u001b[0m\u001b[0;34m,\u001b[0m\u001b[0;34m\u001b[0m\u001b[0;34m\u001b[0m\u001b[0m\n\u001b[1;32m    521\u001b[0m             )\n\u001b[0;32m--> 522\u001b[0;31m         torch.autograd.backward(\n\u001b[0m\u001b[1;32m    523\u001b[0m             \u001b[0mself\u001b[0m\u001b[0;34m,\u001b[0m \u001b[0mgradient\u001b[0m\u001b[0;34m,\u001b[0m \u001b[0mretain_graph\u001b[0m\u001b[0;34m,\u001b[0m \u001b[0mcreate_graph\u001b[0m\u001b[0;34m,\u001b[0m \u001b[0minputs\u001b[0m\u001b[0;34m=\u001b[0m\u001b[0minputs\u001b[0m\u001b[0;34m\u001b[0m\u001b[0;34m\u001b[0m\u001b[0m\n\u001b[1;32m    524\u001b[0m         )\n",
            "\u001b[0;32m/usr/local/lib/python3.10/dist-packages/torch/autograd/__init__.py\u001b[0m in \u001b[0;36mbackward\u001b[0;34m(tensors, grad_tensors, retain_graph, create_graph, grad_variables, inputs)\u001b[0m\n\u001b[1;32m    264\u001b[0m     \u001b[0;31m# some Python versions print out the first line of a multi-line function\u001b[0m\u001b[0;34m\u001b[0m\u001b[0;34m\u001b[0m\u001b[0m\n\u001b[1;32m    265\u001b[0m     \u001b[0;31m# calls in the traceback and some print out the last line\u001b[0m\u001b[0;34m\u001b[0m\u001b[0;34m\u001b[0m\u001b[0m\n\u001b[0;32m--> 266\u001b[0;31m     Variable._execution_engine.run_backward(  # Calls into the C++ engine to run the backward pass\n\u001b[0m\u001b[1;32m    267\u001b[0m         \u001b[0mtensors\u001b[0m\u001b[0;34m,\u001b[0m\u001b[0;34m\u001b[0m\u001b[0;34m\u001b[0m\u001b[0m\n\u001b[1;32m    268\u001b[0m         \u001b[0mgrad_tensors_\u001b[0m\u001b[0;34m,\u001b[0m\u001b[0;34m\u001b[0m\u001b[0;34m\u001b[0m\u001b[0m\n",
            "\u001b[0;31mKeyboardInterrupt\u001b[0m: "
          ]
        }
      ],
      "source": [
        "unet.train()\n",
        "lr = 1e-2\n",
        "b1 = 0.7\n",
        "b2 = 0.999\n",
        "optimizer = Adam(unet.parameters(), lr=lr, betas=(b1, b2), weight_decay=0.005)\n",
        "\n",
        "segmentation_loss = torch.nn.MSELoss()\n",
        "classification_loss = nn.CrossEntropyLoss()\n",
        "\n",
        "classification_loss_train = []\n",
        "segmentation_loss_train = []\n",
        "classification_loss_val = []\n",
        "segmentation_loss_val = []\n",
        "classification_loss_test = []\n",
        "segmentation_loss_test = []\n",
        "accuracy_list = []\n",
        "val_accuracy_list = []\n",
        "test_accuracy_list = []\n",
        "\n",
        "for i in range(NUM_EPOCHS):\n",
        "    unet.train()\n",
        "    train_loss_class = []\n",
        "    train_loss_seg = []\n",
        "    val_loss_class = []\n",
        "    val_loss_seg = []\n",
        "    test_loss_class = []\n",
        "    test_loss_seg = []\n",
        "    accuracy = []\n",
        "    val_accuracy = []\n",
        "    test_accuracy = []\n",
        "\n",
        "    for batch in train_loader:\n",
        "        X_data, y_class, y_seg = batch\n",
        "        optimizer.zero_grad()\n",
        "        segmentation_output, classification_output = unet(X_data)\n",
        "        segmentation_output = torch.sigmoid(segmentation_output)\n",
        "        classification_output = torch.softmax(classification_output, dim=1)\n",
        "        seg_loss = segmentation_loss(segmentation_output, y_seg)\n",
        "        class_loss = classification_loss(classification_output, y_class)\n",
        "        loss = seg_loss + class_loss\n",
        "        loss.backward()\n",
        "        optimizer.step()\n",
        "        train_loss_class.append(class_loss.item())\n",
        "        train_loss_seg.append(seg_loss.item())\n",
        "        predicted_classes = torch.argmax(classification_output, dim=1)\n",
        "        temp_class = torch.argmax(y_class, dim=1)\n",
        "        accuracy.append((predicted_classes == temp_class).float().mean().item())\n",
        "\n",
        "    accuracy = sum(accuracy)/len(accuracy)\n",
        "    accuracy_list.append(accuracy)\n",
        "    classification_loss_train.append(sum(train_loss_class) / len(train_loss_class))\n",
        "    segmentation_loss_train.append(sum(train_loss_seg) / len(train_loss_seg))\n",
        "\n",
        "    unet.eval()\n",
        "    with torch.no_grad():\n",
        "        val_loss_class = []\n",
        "        val_loss_seg = []\n",
        "        for batch in val_loader:\n",
        "            X_val, y_class_val, y_seg_val = batch\n",
        "            segmentation_output_val, classification_output_val = unet(X_val)\n",
        "            segmentation_output_val = torch.sigmoid(segmentation_output_val)\n",
        "            classification_output_val = torch.softmax(classification_output_val, dim=1)\n",
        "            seg_loss_val = segmentation_loss(segmentation_output_val, y_seg_val)\n",
        "            class_loss_val = classification_loss(classification_output_val, y_class_val)\n",
        "            val_loss_class.append(class_loss_val.item())\n",
        "            val_loss_seg.append(seg_loss_val.item())\n",
        "            predicted_classes = torch.argmax(classification_output_val, dim=1)\n",
        "            temp_class = torch.argmax(y_class_val, dim=1)\n",
        "            val_accuracy.append((predicted_classes == temp_class).float().mean().item())\n",
        "\n",
        "        val_accuracy = sum(val_accuracy)/len(val_accuracy)\n",
        "        val_accuracy_list.append(val_accuracy)\n",
        "        classification_loss_val.append(sum(val_loss_class) / len(val_loss_class))\n",
        "        segmentation_loss_val.append(sum(val_loss_seg) / len(val_loss_seg))\n",
        "\n",
        "    with torch.no_grad():\n",
        "        test_loss_class = []\n",
        "        test_loss_seg = []\n",
        "        for batch in test_loader:\n",
        "            X_test, y_class_test, y_seg_test = batch\n",
        "            segmentation_output_test, classification_output_test = unet(X_test)\n",
        "            segmentation_output_test = torch.sigmoid(segmentation_output_test)\n",
        "            classification_output_test = torch.softmax(classification_output_test, dim=1)\n",
        "            seg_loss_test = segmentation_loss(segmentation_output_test, y_seg_test)\n",
        "            class_loss_test = classification_loss(classification_output_test, y_class_test)\n",
        "            test_loss_class.append(class_loss_test.item())\n",
        "            test_loss_seg.append(seg_loss_test.item())\n",
        "            predicted_classes = torch.argmax(classification_output_test, dim=1)\n",
        "            temp_class = torch.argmax(y_class_test, dim=1)\n",
        "            test_accuracy.append((predicted_classes == temp_class).float().mean().item())\n",
        "\n",
        "        test_accuracy = sum(test_accuracy)/len(test_accuracy)\n",
        "        test_accuracy_list.append(test_accuracy)\n",
        "        classification_loss_test.append(sum(test_loss_class) / len(test_loss_class))\n",
        "        segmentation_loss_test.append(sum(test_loss_seg) / len(test_loss_seg))\n",
        "\n",
        "    print(f\"Epoch: {i}, Classification Training Loss: {classification_loss_train[-1]}, Train accuracy: {accuracy_list[-1]}, Val Accuracy: {val_accuracy_list[-1]}, Test Accuracy: {test_accuracy_list[-1]} Segmentation Training Loss: {segmentation_loss_train[-1]}, Classification Validation Loss: {classification_loss_val[-1]}, Segmentation Validation Loss: {segmentation_loss_val[-1]}, Classification Test Loss: {classification_loss_test[-1]}, Segmentation Test Loss: {segmentation_loss_test[-1]}\")\n"
      ]
    },
    {
      "cell_type": "code",
      "source": [
        "torch.save(unet.state_dict(), 'q_unet.pth')"
      ],
      "metadata": {
        "id": "1ZC4RO27Asom"
      },
      "execution_count": null,
      "outputs": []
    },
    {
      "cell_type": "code",
      "source": [
        "lists_to_save = {\n",
        "    'classification_loss_train': classification_loss_train,\n",
        "    'segmentation_loss_train': segmentation_loss_train,\n",
        "    'classification_loss_val': classification_loss_val,\n",
        "    'segmentation_loss_val': segmentation_loss_val,\n",
        "    'classification_loss_test': classification_loss_test,\n",
        "    'segmentation_loss_test': segmentation_loss_test,\n",
        "    'accuracy_list': accuracy_list,\n",
        "    'val_accuracy_list': val_accuracy_list,\n",
        "    'test_accuracy_list': test_accuracy_list\n",
        "}\n",
        "\n",
        "with open('q_unet_results.pkl', 'wb') as f:\n",
        "    pickle.dump(lists_to_save, f)"
      ],
      "metadata": {
        "id": "S1LNQFFsAs-l"
      },
      "execution_count": null,
      "outputs": []
    },
    {
      "cell_type": "markdown",
      "source": [
        "---"
      ],
      "metadata": {
        "id": "Xr_Cl0Ooi-Fk"
      }
    },
    {
      "cell_type": "code",
      "source": [
        "import torch\n",
        "from torch import cat, no_grad, manual_seed\n",
        "from torch.utils.data import DataLoader\n",
        "from torchvision import datasets, transforms\n",
        "import torch.optim as optim\n",
        "from torch.nn import (\n",
        "    Module,\n",
        "    Conv2d,\n",
        "    Linear,\n",
        "    Dropout2d,\n",
        "    NLLLoss,\n",
        "    MaxPool2d,\n",
        "    Flatten,\n",
        "    Sequential,\n",
        "    ReLU,\n",
        ")\n",
        "import torch.nn.functional as F"
      ],
      "metadata": {
        "id": "lz7oyRTKjF15"
      },
      "execution_count": 49,
      "outputs": []
    },
    {
      "cell_type": "code",
      "source": [
        "def create_qnn():\n",
        "    feature_map = ZZFeatureMap(2)\n",
        "    ansatz = RealAmplitudes(2, reps=1)\n",
        "    qc = QuantumCircuit(2)\n",
        "    qc.compose(feature_map, inplace=True)\n",
        "    qc.compose(ansatz, inplace=True)\n",
        "\n",
        "    # REMEMBER TO SET input_gradients=True FOR ENABLING HYBRID GRADIENT BACKPROP\n",
        "    qnn = EstimatorQNN(\n",
        "        circuit=qc,\n",
        "        input_params=feature_map.parameters,\n",
        "        weight_params=ansatz.parameters,\n",
        "        input_gradients=True,\n",
        "    )\n",
        "    return qnn\n",
        "\n",
        "\n",
        "qnn4 = create_qnn()"
      ],
      "metadata": {
        "id": "j83OP8tki5-Q"
      },
      "execution_count": 50,
      "outputs": []
    },
    {
      "cell_type": "code",
      "source": [
        "class Net(Module):\n",
        "    def __init__(self, qnn):\n",
        "        super().__init__()\n",
        "        self.conv1 = Conv2d(3, 8, kernel_size=5)\n",
        "        self.conv2 = Conv2d(8, 16, kernel_size=5)\n",
        "        self.dropout = Dropout2d()\n",
        "        self.fc1 = Linear(59536, 64)\n",
        "        self.fc2 = Linear(64, 2)  # 2-dimensional input to QNN\n",
        "        self.qnn = TorchConnector(qnn)  # Apply torch connector, weights chosen\n",
        "        # uniformly at random from interval [-1,1].\n",
        "        self.fc3 = Linear(1, 3)  # 1-dimensional output from QNN\n",
        "\n",
        "    def forward(self, x):\n",
        "        x = F.relu(self.conv1(x))\n",
        "        x = F.max_pool2d(x, 2)\n",
        "        x = F.relu(self.conv2(x))\n",
        "        x = F.max_pool2d(x, 2)\n",
        "        x = self.dropout(x)\n",
        "        x = x.view(x.shape[0], -1)\n",
        "        x = F.relu(self.fc1(x))\n",
        "        x = self.fc2(x)\n",
        "        x = self.qnn(x)  # apply QNN\n",
        "        x = self.fc3(x)\n",
        "        x = torch.softmax(x, dim=1)\n",
        "        return x\n",
        "\n",
        "\n",
        "model4 = Net(qnn4).to(device)"
      ],
      "metadata": {
        "id": "154Jaykli_nu"
      },
      "execution_count": 64,
      "outputs": []
    },
    {
      "cell_type": "code",
      "source": [
        "optimizer = optim.Adam(model4.parameters(), lr=0.001)\n",
        "loss_func = nn.CrossEntropyLoss()\n",
        "\n",
        "# Start training\n",
        "epochs = 100  # Set number of epochs\n",
        "loss_list = []  # Store loss history\n",
        "model4.train()  # Set model to training mode\n",
        "\n",
        "for epoch in range(epochs):\n",
        "    total_loss = []\n",
        "    for batch_idx, (data, target, _) in enumerate(train_loader):\n",
        "        optimizer.zero_grad(set_to_none=True)  # Initialize gradient\n",
        "        output = model4(data)  # Forward pass\n",
        "        loss = loss_func(output, target)  # Calculate loss\n",
        "        loss.backward()  # Backward pass\n",
        "        optimizer.step()  # Optimize weights\n",
        "        total_loss.append(loss.item())  # Store loss\n",
        "    loss_list.append(sum(total_loss) / len(total_loss))\n",
        "    print(\"Training [{:.0f}%]\\tLoss: {:.4f}\".format(100.0 * (epoch + 1) / epochs, loss_list[-1]))"
      ],
      "metadata": {
        "colab": {
          "base_uri": "https://localhost:8080/"
        },
        "id": "DV0GmDhdjG7k",
        "outputId": "a50833ca-a390-43be-ef6a-3425d084ce04"
      },
      "execution_count": 65,
      "outputs": [
        {
          "output_type": "stream",
          "name": "stdout",
          "text": [
            "Training [1%]\tLoss: 1.1435\n",
            "Training [2%]\tLoss: 1.1425\n",
            "Training [3%]\tLoss: 1.1371\n",
            "Training [4%]\tLoss: 1.1233\n",
            "Training [5%]\tLoss: 1.1286\n",
            "Training [6%]\tLoss: 1.1177\n",
            "Training [7%]\tLoss: 1.1193\n",
            "Training [8%]\tLoss: 1.1031\n",
            "Training [9%]\tLoss: 1.1034\n",
            "Training [10%]\tLoss: 1.1023\n",
            "Training [11%]\tLoss: 1.0910\n",
            "Training [12%]\tLoss: 1.0938\n",
            "Training [13%]\tLoss: 1.0780\n",
            "Training [14%]\tLoss: 1.0792\n",
            "Training [15%]\tLoss: 1.0757\n",
            "Training [16%]\tLoss: 1.0609\n",
            "Training [17%]\tLoss: 1.0433\n",
            "Training [18%]\tLoss: 1.0330\n",
            "Training [19%]\tLoss: 1.0229\n",
            "Training [20%]\tLoss: 1.0133\n",
            "Training [21%]\tLoss: 0.9999\n",
            "Training [22%]\tLoss: 0.9924\n",
            "Training [23%]\tLoss: 0.9824\n",
            "Training [24%]\tLoss: 0.9571\n",
            "Training [25%]\tLoss: 0.9474\n",
            "Training [26%]\tLoss: 0.9303\n",
            "Training [27%]\tLoss: 0.9144\n",
            "Training [28%]\tLoss: 0.8938\n",
            "Training [29%]\tLoss: 0.8923\n",
            "Training [30%]\tLoss: 0.8789\n",
            "Training [31%]\tLoss: 0.8574\n",
            "Training [32%]\tLoss: 0.8624\n",
            "Training [33%]\tLoss: 0.8631\n",
            "Training [34%]\tLoss: 0.8376\n",
            "Training [35%]\tLoss: 0.8233\n",
            "Training [36%]\tLoss: 0.9935\n",
            "Training [37%]\tLoss: 1.0069\n",
            "Training [38%]\tLoss: 1.0027\n",
            "Training [39%]\tLoss: 0.9985\n",
            "Training [40%]\tLoss: 0.9955\n",
            "Training [41%]\tLoss: 1.0039\n",
            "Training [42%]\tLoss: 0.9945\n",
            "Training [43%]\tLoss: 0.9864\n",
            "Training [44%]\tLoss: 0.9874\n",
            "Training [45%]\tLoss: 0.9819\n",
            "Training [46%]\tLoss: 0.9894\n",
            "Training [47%]\tLoss: 0.9675\n",
            "Training [48%]\tLoss: 0.9768\n",
            "Training [49%]\tLoss: 0.9788\n",
            "Training [50%]\tLoss: 0.9632\n",
            "Training [51%]\tLoss: 0.9583\n",
            "Training [52%]\tLoss: 0.9368\n",
            "Training [53%]\tLoss: 0.9267\n",
            "Training [54%]\tLoss: 0.9023\n",
            "Training [55%]\tLoss: 0.9066\n",
            "Training [56%]\tLoss: 0.9074\n",
            "Training [57%]\tLoss: 0.8712\n",
            "Training [58%]\tLoss: 0.8391\n",
            "Training [59%]\tLoss: 0.8433\n",
            "Training [60%]\tLoss: 0.8125\n",
            "Training [61%]\tLoss: 0.8166\n",
            "Training [62%]\tLoss: 0.7964\n",
            "Training [63%]\tLoss: 0.7938\n",
            "Training [64%]\tLoss: 0.7857\n",
            "Training [65%]\tLoss: 0.7818\n",
            "Training [66%]\tLoss: 0.7784\n",
            "Training [67%]\tLoss: 0.7621\n",
            "Training [68%]\tLoss: 0.7575\n",
            "Training [69%]\tLoss: 0.7534\n",
            "Training [70%]\tLoss: 0.7544\n",
            "Training [71%]\tLoss: 0.7413\n",
            "Training [72%]\tLoss: 0.7471\n",
            "Training [73%]\tLoss: 0.7520\n",
            "Training [74%]\tLoss: 0.7457\n",
            "Training [75%]\tLoss: 0.7440\n",
            "Training [76%]\tLoss: 0.7346\n",
            "Training [77%]\tLoss: 0.7355\n",
            "Training [78%]\tLoss: 0.7359\n",
            "Training [79%]\tLoss: 0.7327\n",
            "Training [80%]\tLoss: 0.7386\n",
            "Training [81%]\tLoss: 0.7331\n",
            "Training [82%]\tLoss: 0.7334\n",
            "Training [83%]\tLoss: 0.7332\n",
            "Training [84%]\tLoss: 0.7285\n",
            "Training [85%]\tLoss: 0.7307\n",
            "Training [86%]\tLoss: 0.7310\n",
            "Training [87%]\tLoss: 0.7234\n",
            "Training [88%]\tLoss: 0.7238\n",
            "Training [89%]\tLoss: 0.7220\n",
            "Training [90%]\tLoss: 0.7218\n",
            "Training [91%]\tLoss: 0.7154\n",
            "Training [92%]\tLoss: 0.7175\n",
            "Training [93%]\tLoss: 0.7181\n",
            "Training [94%]\tLoss: 0.7270\n",
            "Training [95%]\tLoss: 0.7537\n",
            "Training [96%]\tLoss: 0.7217\n",
            "Training [97%]\tLoss: 0.7272\n",
            "Training [98%]\tLoss: 0.7193\n",
            "Training [99%]\tLoss: 0.7183\n",
            "Training [100%]\tLoss: 0.7187\n"
          ]
        }
      ]
    },
    {
      "cell_type": "code",
      "source": [
        "val_accuracy = []\n",
        "with torch.no_grad():\n",
        "    val_loss_class = []\n",
        "    val_loss_seg = []\n",
        "    for batch in val_loader:\n",
        "        X_val, y_class_val, y_seg_val = batch\n",
        "        output = model4(X_val)\n",
        "        predicted_classes = torch.argmax(output, dim=1)\n",
        "        temp_class = torch.argmax(y_class_val, dim=1)\n",
        "        val_accuracy.append((predicted_classes == temp_class).float().mean().item())\n",
        "\n",
        "    val_accuracy = sum(val_accuracy)/len(val_accuracy)\n",
        "    print(val_accuracy)"
      ],
      "metadata": {
        "colab": {
          "base_uri": "https://localhost:8080/"
        },
        "id": "yrVJjjM3pCEP",
        "outputId": "b034250b-4009-4c76-e715-4c3961613928"
      },
      "execution_count": 66,
      "outputs": [
        {
          "output_type": "stream",
          "name": "stdout",
          "text": [
            "0.6395833373069764\n"
          ]
        }
      ]
    },
    {
      "cell_type": "code",
      "source": [
        "val_accuracy = []\n",
        "with torch.no_grad():\n",
        "    train_loss_class = []\n",
        "    train_loss_seg = []\n",
        "    for batch in train_loader:\n",
        "        X_train, y_class_train, y_seg_train = batch\n",
        "        output = model4(X_train)\n",
        "        predicted_classes = torch.argmax(output, dim=1)\n",
        "        temp_class = torch.argmax(y_class_train, dim=1)\n",
        "        val_accuracy.append((predicted_classes == temp_class).float().mean().item())\n",
        "\n",
        "    val_accuracy = sum(val_accuracy)/len(val_accuracy)\n",
        "    print(val_accuracy)"
      ],
      "metadata": {
        "colab": {
          "base_uri": "https://localhost:8080/"
        },
        "id": "LFS63W59oIKQ",
        "outputId": "961dd830-92fb-45f6-fd44-591b1eba5105"
      },
      "execution_count": 67,
      "outputs": [
        {
          "output_type": "stream",
          "name": "stdout",
          "text": [
            "0.825\n"
          ]
        }
      ]
    },
    {
      "cell_type": "code",
      "source": [
        "torch.save(model4.state_dict(), 'model.pth')\n",
        "\n",
        "with open('loss_list.pkl', 'wb') as f:\n",
        "    pickle.dump(loss_list, f)"
      ],
      "metadata": {
        "id": "4LDacXour2x9"
      },
      "execution_count": 68,
      "outputs": []
    },
    {
      "cell_type": "markdown",
      "source": [
        "---"
      ],
      "metadata": {
        "id": "04E7kGGQweyL"
      }
    },
    {
      "cell_type": "code",
      "source": [
        "class Net(Module):\n",
        "    def __init__(self):\n",
        "        super().__init__()\n",
        "        self.conv1 = Conv2d(3, 8, kernel_size=5)\n",
        "        self.conv2 = Conv2d(8, 16, kernel_size=5)\n",
        "        self.dropout = Dropout2d()\n",
        "        self.fc1 = Linear(59536, 64)\n",
        "        self.fc2 = Linear(64, 2)  # 2-dimensional input to QNN\n",
        "        # uniformly at random from interval [-1,1].\n",
        "        self.fc3 = Linear(2, 3)  # 1-dimensional output from QNN\n",
        "\n",
        "    def forward(self, x):\n",
        "        x = F.relu(self.conv1(x))\n",
        "        x = F.max_pool2d(x, 2)\n",
        "        x = F.relu(self.conv2(x))\n",
        "        x = F.max_pool2d(x, 2)\n",
        "        x = self.dropout(x)\n",
        "        x = x.view(x.shape[0], -1)\n",
        "        x = F.relu(self.fc1(x))\n",
        "        x = self.fc2(x)\n",
        "        x = self.fc3(x)\n",
        "        x = torch.softmax(x, dim=1)\n",
        "        return x\n",
        "\n",
        "\n",
        "model4 = Net().to(device)"
      ],
      "metadata": {
        "id": "veml_GnPwbVx"
      },
      "execution_count": 74,
      "outputs": []
    },
    {
      "cell_type": "code",
      "source": [
        "optimizer = optim.Adam(model4.parameters(), lr=0.001)\n",
        "loss_func = nn.CrossEntropyLoss()\n",
        "\n",
        "# Start training\n",
        "epochs = 100  # Set number of epochs\n",
        "loss_list = []  # Store loss history\n",
        "model4.train()  # Set model to training mode\n",
        "\n",
        "for epoch in range(epochs):\n",
        "    total_loss = []\n",
        "    for batch_idx, (data, target, _) in enumerate(train_loader):\n",
        "        optimizer.zero_grad(set_to_none=True)  # Initialize gradient\n",
        "        output = model4(data)  # Forward pass\n",
        "        loss = loss_func(output, target)  # Calculate loss\n",
        "        loss.backward()  # Backward pass\n",
        "        optimizer.step()  # Optimize weights\n",
        "        total_loss.append(loss.item())  # Store loss\n",
        "    loss_list.append(sum(total_loss) / len(total_loss))\n",
        "    print(\"Training [{:.0f}%]\\tLoss: {:.4f}\".format(100.0 * (epoch + 1) / epochs, loss_list[-1]))"
      ],
      "metadata": {
        "colab": {
          "base_uri": "https://localhost:8080/"
        },
        "id": "6XYG304Hwb68",
        "outputId": "5a6917a4-40d0-4aa1-e735-0e886da71ad3"
      },
      "execution_count": 75,
      "outputs": [
        {
          "output_type": "stream",
          "name": "stdout",
          "text": [
            "Training [1%]\tLoss: 0.9985\n",
            "Training [2%]\tLoss: 0.9908\n",
            "Training [3%]\tLoss: 0.9855\n",
            "Training [4%]\tLoss: 0.9918\n",
            "Training [5%]\tLoss: 0.9916\n",
            "Training [6%]\tLoss: 1.0037\n",
            "Training [7%]\tLoss: 0.9893\n",
            "Training [8%]\tLoss: 0.9914\n",
            "Training [9%]\tLoss: 0.9911\n",
            "Training [10%]\tLoss: 0.9911\n",
            "Training [11%]\tLoss: 0.9918\n",
            "Training [12%]\tLoss: 0.9902\n",
            "Training [13%]\tLoss: 0.9907\n",
            "Training [14%]\tLoss: 0.9905\n",
            "Training [15%]\tLoss: 0.9918\n",
            "Training [16%]\tLoss: 0.9915\n",
            "Training [17%]\tLoss: 0.9907\n",
            "Training [18%]\tLoss: 0.9900\n",
            "Training [19%]\tLoss: 0.9918\n",
            "Training [20%]\tLoss: 0.9907\n",
            "Training [21%]\tLoss: 0.9918\n",
            "Training [22%]\tLoss: 0.9926\n",
            "Training [23%]\tLoss: 0.9915\n",
            "Training [24%]\tLoss: 0.9907\n",
            "Training [25%]\tLoss: 0.9916\n",
            "Training [26%]\tLoss: 0.9918\n",
            "Training [27%]\tLoss: 0.9907\n",
            "Training [28%]\tLoss: 0.9907\n",
            "Training [29%]\tLoss: 0.9907\n",
            "Training [30%]\tLoss: 0.9907\n",
            "Training [31%]\tLoss: 0.9907\n",
            "Training [32%]\tLoss: 0.9900\n",
            "Training [33%]\tLoss: 0.9907\n",
            "Training [34%]\tLoss: 0.9907\n",
            "Training [35%]\tLoss: 0.9907\n",
            "Training [36%]\tLoss: 0.9907\n",
            "Training [37%]\tLoss: 0.9908\n",
            "Training [38%]\tLoss: 0.9907\n",
            "Training [39%]\tLoss: 0.9907\n",
            "Training [40%]\tLoss: 0.9907\n",
            "Training [41%]\tLoss: 0.9907\n",
            "Training [42%]\tLoss: 0.9907\n",
            "Training [43%]\tLoss: 0.9907\n",
            "Training [44%]\tLoss: 0.9907\n",
            "Training [45%]\tLoss: 0.9907\n",
            "Training [46%]\tLoss: 0.9907\n",
            "Training [47%]\tLoss: 0.9917\n",
            "Training [48%]\tLoss: 0.9907\n",
            "Training [49%]\tLoss: 0.9900\n",
            "Training [50%]\tLoss: 0.9907\n",
            "Training [51%]\tLoss: 0.9907\n",
            "Training [52%]\tLoss: 0.9907\n",
            "Training [53%]\tLoss: 0.9907\n",
            "Training [54%]\tLoss: 0.9907\n",
            "Training [55%]\tLoss: 0.9901\n",
            "Training [56%]\tLoss: 0.9918\n",
            "Training [57%]\tLoss: 0.9907\n",
            "Training [58%]\tLoss: 0.9900\n",
            "Training [59%]\tLoss: 0.9908\n",
            "Training [60%]\tLoss: 0.9907\n",
            "Training [61%]\tLoss: 0.9903\n",
            "Training [62%]\tLoss: 0.9907\n",
            "Training [63%]\tLoss: 0.9907\n",
            "Training [64%]\tLoss: 0.9907\n",
            "Training [65%]\tLoss: 0.9917\n",
            "Training [66%]\tLoss: 0.9907\n",
            "Training [67%]\tLoss: 0.9899\n",
            "Training [68%]\tLoss: 0.9927\n",
            "Training [69%]\tLoss: 0.9907\n",
            "Training [70%]\tLoss: 0.9917\n",
            "Training [71%]\tLoss: 0.9907\n",
            "Training [72%]\tLoss: 0.9907\n",
            "Training [73%]\tLoss: 0.9907\n",
            "Training [74%]\tLoss: 0.9907\n",
            "Training [75%]\tLoss: 0.9907\n",
            "Training [76%]\tLoss: 0.9907\n",
            "Training [77%]\tLoss: 0.9907\n",
            "Training [78%]\tLoss: 0.9907\n",
            "Training [79%]\tLoss: 0.9907\n",
            "Training [80%]\tLoss: 0.9907\n",
            "Training [81%]\tLoss: 0.9907\n",
            "Training [82%]\tLoss: 0.9907\n",
            "Training [83%]\tLoss: 0.9907\n",
            "Training [84%]\tLoss: 0.9907\n",
            "Training [85%]\tLoss: 0.9907\n",
            "Training [86%]\tLoss: 0.9917\n",
            "Training [87%]\tLoss: 0.9907\n",
            "Training [88%]\tLoss: 0.9909\n",
            "Training [89%]\tLoss: 0.9907\n",
            "Training [90%]\tLoss: 0.9907\n",
            "Training [91%]\tLoss: 0.9907\n",
            "Training [92%]\tLoss: 0.9907\n",
            "Training [93%]\tLoss: 0.9917\n",
            "Training [94%]\tLoss: 0.9907\n",
            "Training [95%]\tLoss: 0.9907\n",
            "Training [96%]\tLoss: 0.9907\n",
            "Training [97%]\tLoss: 0.9907\n",
            "Training [98%]\tLoss: 0.9907\n",
            "Training [99%]\tLoss: 0.9907\n",
            "Training [100%]\tLoss: 0.9916\n"
          ]
        }
      ]
    },
    {
      "cell_type": "code",
      "source": [
        "val_accuracy = []\n",
        "with torch.no_grad():\n",
        "    val_loss_class = []\n",
        "    val_loss_seg = []\n",
        "    for batch in val_loader:\n",
        "        X_val, y_class_val, y_seg_val = batch\n",
        "        output = model4(X_val)\n",
        "        predicted_classes = torch.argmax(output, dim=1)\n",
        "        temp_class = torch.argmax(y_class_val, dim=1)\n",
        "        val_accuracy.append((predicted_classes == temp_class).float().mean().item())\n",
        "\n",
        "    val_accuracy = sum(val_accuracy)/len(val_accuracy)\n",
        "    print(val_accuracy)"
      ],
      "metadata": {
        "colab": {
          "base_uri": "https://localhost:8080/"
        },
        "id": "z39Mkj1xxKnS",
        "outputId": "0090e513-45ee-4e91-b22b-d1f0b505eb96"
      },
      "execution_count": 78,
      "outputs": [
        {
          "output_type": "stream",
          "name": "stdout",
          "text": [
            "0.5354166686534881\n"
          ]
        }
      ]
    },
    {
      "cell_type": "code",
      "source": [
        "val_accuracy = []\n",
        "with torch.no_grad():\n",
        "    train_loss_class = []\n",
        "    train_loss_seg = []\n",
        "    for batch in train_loader:\n",
        "        X_train, y_class_train, y_seg_train = batch\n",
        "        output = model4(X_train)\n",
        "        predicted_classes = torch.argmax(output, dim=1)\n",
        "        temp_class = torch.argmax(y_class_train, dim=1)\n",
        "        val_accuracy.append((predicted_classes == temp_class).float().mean().item())\n",
        "\n",
        "    val_accuracy = sum(val_accuracy)/len(val_accuracy)\n",
        "    print(val_accuracy)"
      ],
      "metadata": {
        "colab": {
          "base_uri": "https://localhost:8080/"
        },
        "id": "67SMYyfJwpTt",
        "outputId": "fe558652-9469-4f20-8776-e8b49489718f"
      },
      "execution_count": 76,
      "outputs": [
        {
          "output_type": "stream",
          "name": "stdout",
          "text": [
            "0.5607142857142857\n"
          ]
        }
      ]
    },
    {
      "cell_type": "code",
      "source": [
        "torch.save(model4.state_dict(), 'not_quantum_model.pth')\n",
        "\n",
        "with open('not_quantum_loss_list.pkl', 'wb') as f:\n",
        "    pickle.dump(loss_list, f)"
      ],
      "metadata": {
        "id": "RhCzKVR_wrgs"
      },
      "execution_count": 79,
      "outputs": []
    }
  ],
  "metadata": {
    "kernelspec": {
      "display_name": "Python 3",
      "name": "python3"
    },
    "language_info": {
      "codemirror_mode": {
        "name": "ipython",
        "version": 3
      },
      "file_extension": ".py",
      "mimetype": "text/x-python",
      "name": "python",
      "nbconvert_exporter": "python",
      "pygments_lexer": "ipython3",
      "version": "3.10.6"
    },
    "colab": {
      "provenance": [],
      "gpuType": "A100"
    },
    "accelerator": "GPU"
  },
  "nbformat": 4,
  "nbformat_minor": 0
}