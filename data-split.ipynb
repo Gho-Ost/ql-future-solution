{
 "cells": [
  {
   "cell_type": "code",
   "execution_count": 1,
   "metadata": {},
   "outputs": [],
   "source": [
    "import os\n",
    "import shutil\n",
    "\n",
    "# Define the paths\n",
    "data_folder = \"data\"\n",
    "data_no_mask_folder = \"data_no_mask\"\n",
    "subfolders = [\"benign\", \"malignant\", \"normal\"]\n",
    "\n",
    "# Create data_no_mask_folder if it doesn't exist\n",
    "if not os.path.exists(data_no_mask_folder):\n",
    "    os.makedirs(data_no_mask_folder)\n",
    "\n",
    "# Loop through each subfolder\n",
    "for subfolder in subfolders:\n",
    "    subfolder_path = os.path.join(data_folder, subfolder)\n",
    "    data_no_mask_subfolder_path = os.path.join(data_no_mask_folder, subfolder)\n",
    "    \n",
    "    # Create subfolder in data_no_mask_folder if it doesn't exist\n",
    "    if not os.path.exists(data_no_mask_subfolder_path):\n",
    "        os.makedirs(data_no_mask_subfolder_path)\n",
    "    \n",
    "    # Loop through files in subfolder\n",
    "    for filename in os.listdir(subfolder_path):\n",
    "        if filename.endswith(\".jpg\") or filename.endswith(\".jpeg\") or filename.endswith(\".png\"):\n",
    "            # Check if 'mask' is in the filename\n",
    "            if 'mask' not in filename.lower():\n",
    "                # Copy the image to data_no_mask_folder\n",
    "                shutil.copy(os.path.join(subfolder_path, filename), data_no_mask_subfolder_path)\n"
   ]
  },
  {
   "cell_type": "code",
   "execution_count": 3,
   "metadata": {},
   "outputs": [],
   "source": [
    "import os\n",
    "import cv2\n",
    "import numpy as np\n",
    "from collections import defaultdict\n",
    "import shutil\n",
    "\n",
    "# Function to concatenate multiple mask images into one\n",
    "def concatenate_masks(mask_paths):\n",
    "    masks = [cv2.imread(mask_path, cv2.IMREAD_GRAYSCALE) for mask_path in mask_paths]\n",
    "    concatenated_mask = np.zeros_like(masks[0])\n",
    "    for mask in masks:\n",
    "        concatenated_mask = np.maximum(concatenated_mask, mask)\n",
    "    return concatenated_mask\n",
    "\n",
    "# Define the paths\n",
    "data_folder = \"data\"\n",
    "mask_data_folder = \"mask_data\"\n",
    "subfolders = [\"benign\", \"malignant\", \"normal\"]\n",
    "\n",
    "# Create mask_data_folder if it doesn't exist\n",
    "if not os.path.exists(mask_data_folder):\n",
    "    os.makedirs(mask_data_folder)\n",
    "\n",
    "# Dictionary to store original image paths and their corresponding mask paths\n",
    "image_mask_dict = defaultdict(list)\n",
    "\n",
    "# Loop through each subfolder\n",
    "for subfolder in subfolders:\n",
    "    subfolder_path = os.path.join(data_folder, subfolder)\n",
    "    mask_subfolder_path = os.path.join(mask_data_folder, subfolder)\n",
    "    \n",
    "    if not os.path.exists(mask_subfolder_path):\n",
    "        os.makedirs(mask_subfolder_path)\n",
    "    \n",
    "    for filename in os.listdir(subfolder_path):\n",
    "        if filename.endswith(\".jpg\") or filename.endswith(\".jpeg\") or filename.endswith(\".png\"):\n",
    "            if 'mask' in filename.lower():\n",
    "                shutil.copy(os.path.join(subfolder_path, filename), mask_subfolder_path)\n",
    "            else:\n",
    "\n",
    "                image_name = filename.split('.')[0]\n",
    "                image_mask_dict[image_name].append(os.path.join(subfolder_path, filename))\n",
    "\n",
    "for image_name, mask_paths in image_mask_dict.items():\n",
    "    if len(mask_paths) > 1:\n",
    "        concatenated_mask = concatenate_masks(mask_paths)\n",
    "        cv2.imwrite(os.path.join(mask_data_folder, f\"{image_name}_mask.png\"), concatenated_mask)\n",
    "\n"
   ]
  },
  {
   "cell_type": "code",
   "execution_count": 4,
   "metadata": {},
   "outputs": [],
   "source": [
    "import os\n",
    "import cv2\n",
    "import numpy as np\n",
    "\n",
    "# Function to concatenate multiple mask images into one\n",
    "def concatenate_masks(mask_paths):\n",
    "    masks = [cv2.imread(mask_path, cv2.IMREAD_GRAYSCALE) for mask_path in mask_paths]\n",
    "    concatenated_mask = np.zeros_like(masks[0])\n",
    "    \n",
    "    for mask in masks:\n",
    "        concatenated_mask = np.maximum(concatenated_mask, mask)\n",
    "    return concatenated_mask\n",
    "\n",
    "# Define the paths\n",
    "mask_data_folder = \"mask_data\"\n",
    "subfolders = [\"benign\", \"malignant\", \"normal\"]\n",
    "\n",
    "# Loop through each subfolder\n",
    "for subfolder in subfolders:\n",
    "    subfolder_path = os.path.join(mask_data_folder, subfolder)\n",
    "    \n",
    "    # Loop through files in subfolder\n",
    "    for filename in os.listdir(subfolder_path):\n",
    "        if filename.endswith(\"_mask.png\"):\n",
    "            image_name = filename.split('_mask')[0]\n",
    "            other_masks = [f for f in os.listdir(subfolder_path) if f.startswith(image_name + '_mask_')]\n",
    "\n",
    "            if other_masks:\n",
    "                mask_paths = [os.path.join(subfolder_path, filename)]\n",
    "                for mask in other_masks:\n",
    "                    mask_paths.append(os.path.join(subfolder_path, mask))\n",
    "                \n",
    "                # Concatenate masks\n",
    "                concatenated_mask = concatenate_masks(mask_paths)\n",
    "                for mask in mask_paths:\n",
    "                    os.remove(mask)\n",
    "                # Save concatenated mask\n",
    "                cv2.imwrite(os.path.join(subfolder_path, f\"{image_name}_mask.png\"), concatenated_mask)\n",
    "                \n",
    "                # Remove individual mask files"
   ]
  },
  {
   "cell_type": "code",
   "execution_count": 9,
   "metadata": {},
   "outputs": [
    {
     "name": "stderr",
     "output_type": "stream",
     "text": [
      "Copying files: 780 files [00:01, 731.97 files/s]\n"
     ]
    }
   ],
   "source": [
    "import splitfolders\n",
    "splitfolders.ratio(\"./data_no_mask\", output=\"./data-split\", seed=1337, ratio=(0.7, 0.2, 0.1), group_prefix=None, move=False)"
   ]
  },
  {
   "cell_type": "code",
   "execution_count": 10,
   "metadata": {},
   "outputs": [
    {
     "name": "stderr",
     "output_type": "stream",
     "text": [
      "Copying files: 780 files [00:00, 1087.97 files/s]\n"
     ]
    }
   ],
   "source": [
    "import splitfolders\n",
    "splitfolders.ratio(\"./mask_data\", output=\"./data-split_mask\", seed=1337, ratio=(0.7, 0.2, 0.1), group_prefix=None, move=False)"
   ]
  },
  {
   "cell_type": "code",
   "execution_count": null,
   "metadata": {},
   "outputs": [],
   "source": []
  }
 ],
 "metadata": {
  "kernelspec": {
   "display_name": "Python 3",
   "language": "python",
   "name": "python3"
  },
  "language_info": {
   "codemirror_mode": {
    "name": "ipython",
    "version": 3
   },
   "file_extension": ".py",
   "mimetype": "text/x-python",
   "name": "python",
   "nbconvert_exporter": "python",
   "pygments_lexer": "ipython3",
   "version": "3.10.12"
  }
 },
 "nbformat": 4,
 "nbformat_minor": 2
}
